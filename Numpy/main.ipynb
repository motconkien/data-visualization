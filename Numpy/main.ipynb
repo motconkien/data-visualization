{
 "cells": [
  {
   "cell_type": "markdown",
   "metadata": {},
   "source": []
  },
  {
   "cell_type": "markdown",
   "metadata": {},
   "source": [
    "#Working with Numpy"
   ]
  },
  {
   "cell_type": "code",
   "execution_count": 1,
   "metadata": {},
   "outputs": [],
   "source": [
    "import numpy as np"
   ]
  },
  {
   "cell_type": "markdown",
   "metadata": {},
   "source": []
  },
  {
   "cell_type": "markdown",
   "metadata": {},
   "source": [
    "## Part 1: Create an 1D- array\n",
    "* Create an array by arrange function\n",
    "* Create an array by using linspace with retstep\n",
    "* Create an array with random number in a range\n",
    "* Create an array with zeros and ones\n",
    "* Create an array with random and unique number"
   ]
  },
  {
   "cell_type": "code",
   "execution_count": 2,
   "metadata": {},
   "outputs": [
    {
     "data": {
      "text/plain": [
       "array([ 2,  4,  6,  8, 10, 12, 14, 16, 18, 20])"
      ]
     },
     "execution_count": 2,
     "metadata": {},
     "output_type": "execute_result"
    }
   ],
   "source": [
    "#Create an even number array has 10 elements in range [2,20]\n",
    "even_numbers = np.arange(2,21,2)\n",
    "even_numbers"
   ]
  },
  {
   "cell_type": "code",
   "execution_count": 3,
   "metadata": {},
   "outputs": [
    {
     "data": {
      "text/plain": [
       "array([ 1,  6, 11, 16])"
      ]
     },
     "execution_count": 3,
     "metadata": {},
     "output_type": "execute_result"
    }
   ],
   "source": [
    "#Create a 1D array contains 5 elements which divide by 5 and leave a remainder of 1 (5x+1) in the range[1,21]\n",
    "arr = np.arange(1,21,5)\n",
    "arr"
   ]
  },
  {
   "cell_type": "code",
   "execution_count": 4,
   "metadata": {},
   "outputs": [],
   "source": [
    "#Create a 1D array contains 11 elements in range (0,1). Retstep is step size between values\n",
    "arr1 = np.linspace(0,1,11,dtype = int,retstep = True)"
   ]
  },
  {
   "cell_type": "code",
   "execution_count": 5,
   "metadata": {},
   "outputs": [
    {
     "data": {
      "text/plain": [
       "array([11,  4,  9,  1, 11])"
      ]
     },
     "execution_count": 5,
     "metadata": {},
     "output_type": "execute_result"
    }
   ],
   "source": [
    "#Create a 1D array contains 5 elements is randommed from 1 to 20\n",
    "np.random.seed(3)\n",
    "arr2 = np.random.randint(1,20,5)\n",
    "arr2"
   ]
  },
  {
   "cell_type": "code",
   "execution_count": 6,
   "metadata": {},
   "outputs": [
    {
     "data": {
      "text/plain": [
       "array([0, 1, 0, 3, 0, 5, 0, 7, 0, 9])"
      ]
     },
     "execution_count": 6,
     "metadata": {},
     "output_type": "execute_result"
    }
   ],
   "source": [
    "#Create a 1D array contains 10 elements with odd index = 0 and remain is even number\n",
    "arr3 = np.zeros(10,dtype=int)\n",
    "arr3[1::2] = np.arange(1,10,2)\n",
    "arr3"
   ]
  },
  {
   "cell_type": "code",
   "execution_count": 7,
   "metadata": {},
   "outputs": [
    {
     "data": {
      "text/plain": [
       "array([3, 1, 1, 3, 1, 1, 3, 1, 1, 3])"
      ]
     },
     "execution_count": 7,
     "metadata": {},
     "output_type": "execute_result"
    }
   ],
   "source": [
    "#Create a 1D array contains 10 elements and index [0,3,6,9] = 3 and remain is 1\n",
    "arr4 = np.ones(10,dtype=int)\n",
    "arr4[0::3] = 3\n",
    "arr4"
   ]
  },
  {
   "cell_type": "code",
   "execution_count": 8,
   "metadata": {},
   "outputs": [
    {
     "name": "stdout",
     "output_type": "stream",
     "text": [
      "The first array which divides by 3: [ 0  3  6  9 12 15 18 21 24 27]\n",
      "The second array which is choosen from arr5: [27 15  6 12 21]\n"
     ]
    }
   ],
   "source": [
    "#Create a 1D array contains 5 elements which are unique and random dividing by 3 and smaller than 30\n",
    "np.random.seed(5)\n",
    "arr5 = np.arange(0,30,3)\n",
    "print(f\"The first array which divides by 3: {arr5}\")\n",
    "arr6 = np.random.choice(arr5,5,replace = False)\n",
    "print(f\"The second array which is choosen from arr5: {arr6}\")"
   ]
  },
  {
   "cell_type": "markdown",
   "metadata": {},
   "source": [
    "## Part2: Create 2D-array\n",
    "* Create 2D-array has unique elements and smaller than a number\n",
    "* Create 2D-array with boundary values set to 1 and all other values set to 0\n",
    "* Create 2d-array where the diagonal elements are set to 1 and all other elements are set to 0"
   ]
  },
  {
   "cell_type": "code",
   "execution_count": 9,
   "metadata": {},
   "outputs": [
    {
     "data": {
      "text/plain": [
       "array([[28, 26, 34,  6],\n",
       "       [42, 20, 36, 38],\n",
       "       [ 8,  4, 40, 12]])"
      ]
     },
     "execution_count": 9,
     "metadata": {},
     "output_type": "execute_result"
    }
   ],
   "source": [
    "#Create 2D-array size(3,4) has unique elements and smaller than 50\n",
    "np.random.seed(1)\n",
    "even = np.arange(0,50,2)\n",
    "arr_2d = np.random.choice(even, (3,4),replace=False)\n",
    "arr_2d"
   ]
  },
  {
   "cell_type": "code",
   "execution_count": 10,
   "metadata": {},
   "outputs": [
    {
     "data": {
      "text/plain": [
       "array([[1, 1, 1, 1, 1, 1],\n",
       "       [1, 0, 0, 0, 0, 1],\n",
       "       [1, 0, 0, 0, 0, 1],\n",
       "       [1, 0, 0, 0, 0, 1],\n",
       "       [1, 0, 0, 0, 0, 1],\n",
       "       [1, 1, 1, 1, 1, 1]])"
      ]
     },
     "execution_count": 10,
     "metadata": {},
     "output_type": "execute_result"
    }
   ],
   "source": [
    "#Create 2D-array(6,6) with boundary values set to 1 and others = 0\n",
    "arr7 = np.ones((6,6),dtype=int)\n",
    "arr7[1:-1,1:-1]=0\n",
    "arr7"
   ]
  },
  {
   "cell_type": "code",
   "execution_count": 11,
   "metadata": {},
   "outputs": [
    {
     "name": "stdout",
     "output_type": "stream",
     "text": [
      "[[1. 0. 0.]\n",
      " [0. 1. 0.]\n",
      " [0. 0. 1.]]\n"
     ]
    }
   ],
   "source": [
    "#Create 2D-array where diagonal elements are set to 1 and all other elements are set to 0\n",
    "arr8 = np.eye(3)\n",
    "print(arr8)"
   ]
  },
  {
   "cell_type": "markdown",
   "metadata": {},
   "source": [
    "## Part 3: Query\n",
    "* Query with 1D\n",
    "* Query with 2d"
   ]
  },
  {
   "cell_type": "code",
   "execution_count": 12,
   "metadata": {},
   "outputs": [
    {
     "data": {
      "text/plain": [
       "np.int64(8)"
      ]
     },
     "execution_count": 12,
     "metadata": {},
     "output_type": "execute_result"
    }
   ],
   "source": [
    "#From even_number arrays above, take element having index 3\n",
    "even_numbers[3]"
   ]
  },
  {
   "cell_type": "code",
   "execution_count": 13,
   "metadata": {},
   "outputs": [
    {
     "data": {
      "text/plain": [
       "array([ 6,  8, 10])"
      ]
     },
     "execution_count": 13,
     "metadata": {},
     "output_type": "execute_result"
    }
   ],
   "source": [
    "#Take elements from index 2 to index 4(inclue index 4)\n",
    "even_numbers[2:5]"
   ]
  },
  {
   "cell_type": "code",
   "execution_count": 14,
   "metadata": {},
   "outputs": [
    {
     "data": {
      "text/plain": [
       "array([12, 14, 16, 18, 20])"
      ]
     },
     "execution_count": 14,
     "metadata": {},
     "output_type": "execute_result"
    }
   ],
   "source": [
    "#Take elements from even_numbers that is bigger than 10\n",
    "even_numbers[even_numbers > 10]"
   ]
  },
  {
   "cell_type": "code",
   "execution_count": 15,
   "metadata": {},
   "outputs": [
    {
     "data": {
      "text/plain": [
       "array([12, 18])"
      ]
     },
     "execution_count": 15,
     "metadata": {},
     "output_type": "execute_result"
    }
   ],
   "source": [
    "#Take elements from even_numbers both divides by 3 and bigger than 10\n",
    "even_numbers[(even_numbers %3 == 0) & (even_numbers > 10)]"
   ]
  },
  {
   "cell_type": "code",
   "execution_count": 16,
   "metadata": {},
   "outputs": [
    {
     "data": {
      "text/plain": [
       "np.int64(12)"
      ]
     },
     "execution_count": 16,
     "metadata": {},
     "output_type": "execute_result"
    }
   ],
   "source": [
    "#From arr_2d abover, what is value in row 2 and col 3\n",
    "arr_2d[2,3]"
   ]
  },
  {
   "cell_type": "code",
   "execution_count": 17,
   "metadata": {},
   "outputs": [
    {
     "data": {
      "text/plain": [
       "array([42, 20, 36, 38])"
      ]
     },
     "execution_count": 17,
     "metadata": {},
     "output_type": "execute_result"
    }
   ],
   "source": [
    "#show all values in row index 1\n",
    "arr_2d[1]"
   ]
  },
  {
   "cell_type": "code",
   "execution_count": 18,
   "metadata": {},
   "outputs": [
    {
     "data": {
      "text/plain": [
       "array([34, 36, 40])"
      ]
     },
     "execution_count": 18,
     "metadata": {},
     "output_type": "execute_result"
    }
   ],
   "source": [
    "#show all values in col index 2\n",
    "arr_2d[:,2]"
   ]
  },
  {
   "cell_type": "code",
   "execution_count": 19,
   "metadata": {},
   "outputs": [
    {
     "data": {
      "text/plain": [
       "array([34, 42, 36, 38, 40])"
      ]
     },
     "execution_count": 19,
     "metadata": {},
     "output_type": "execute_result"
    }
   ],
   "source": [
    "#take all values bigger than 30 in arr_2d\n",
    "arr_2d[arr_2d > 30]"
   ]
  },
  {
   "cell_type": "code",
   "execution_count": 20,
   "metadata": {},
   "outputs": [
    {
     "data": {
      "text/plain": [
       "array([[42, 20, 36, 38],\n",
       "       [ 8,  4, 40, 12]])"
      ]
     },
     "execution_count": 20,
     "metadata": {},
     "output_type": "execute_result"
    }
   ],
   "source": [
    "#take all values in col index 2 and divide by 4\n",
    "arr_2d[arr_2d[:,2]%4 == 0]"
   ]
  },
  {
   "cell_type": "code",
   "execution_count": 21,
   "metadata": {},
   "outputs": [
    {
     "data": {
      "text/plain": [
       "array([28, 26, 20, 12])"
      ]
     },
     "execution_count": 21,
     "metadata": {},
     "output_type": "execute_result"
    }
   ],
   "source": [
    "#take all values in arr_2d which is in range (10,30)\n",
    "arr_2d[(arr_2d >= 10) & (arr_2d < 31)]"
   ]
  },
  {
   "cell_type": "markdown",
   "metadata": {},
   "source": [
    "## Part 4: Edit, add, delete values in array\n",
    "* Edit in 1D\n",
    "* Edit in 2D"
   ]
  },
  {
   "cell_type": "code",
   "execution_count": 22,
   "metadata": {},
   "outputs": [
    {
     "data": {
      "text/plain": [
       "array([ 2,  4,  6,  8, 10, 12, 14, 16, 18, 20, 22])"
      ]
     },
     "execution_count": 22,
     "metadata": {},
     "output_type": "execute_result"
    }
   ],
   "source": [
    "#Add 22 to even_numbers array\n",
    "even_numbers = np.concatenate([even_numbers,[22]])\n",
    "even_numbers"
   ]
  },
  {
   "cell_type": "code",
   "execution_count": 23,
   "metadata": {},
   "outputs": [
    {
     "data": {
      "text/plain": [
       "array([ 2,  4,  6,  8, 10, 30, 12, 14, 16, 18, 20, 22])"
      ]
     },
     "execution_count": 23,
     "metadata": {},
     "output_type": "execute_result"
    }
   ],
   "source": [
    "#Add 30 to index 5 of even_numbers\n",
    "even_numbers = np.insert(even_numbers,5,30)\n",
    "even_numbers"
   ]
  },
  {
   "cell_type": "code",
   "execution_count": 24,
   "metadata": {},
   "outputs": [
    {
     "data": {
      "text/plain": [
       "array([ 2,  4,  6,  8, 10, 30, 12, 16, 18, 20, 22])"
      ]
     },
     "execution_count": 24,
     "metadata": {},
     "output_type": "execute_result"
    }
   ],
   "source": [
    "#Delete value has index = 7 and save to temp array\n",
    "temp = np.delete(even_numbers,7)\n",
    "temp"
   ]
  },
  {
   "cell_type": "code",
   "execution_count": 25,
   "metadata": {},
   "outputs": [
    {
     "data": {
      "text/plain": [
       "array([ 2,  4,  6, 10, 30, 12, 14, 16, 18, 20, 22])"
      ]
     },
     "execution_count": 25,
     "metadata": {},
     "output_type": "execute_result"
    }
   ],
   "source": [
    "#Delete value is 8 and save to temp\n",
    "temp = np.delete(even_numbers,np.where(even_numbers == 8))\n",
    "temp"
   ]
  },
  {
   "cell_type": "code",
   "execution_count": 26,
   "metadata": {},
   "outputs": [
    {
     "data": {
      "text/plain": [
       "array([10, 10, 10, 10, 10, 30, 12, 14, 16, 18, 20, 22])"
      ]
     },
     "execution_count": 26,
     "metadata": {},
     "output_type": "execute_result"
    }
   ],
   "source": [
    "#Change all values < 10 to 10\n",
    "even_numbers[even_numbers < 10] = 10\n",
    "even_numbers"
   ]
  },
  {
   "cell_type": "code",
   "execution_count": 27,
   "metadata": {},
   "outputs": [
    {
     "data": {
      "text/plain": [
       "array([[28, 26, 34,  6],\n",
       "       [42, 20, 36, 38],\n",
       "       [ 8,  4, 40, 12],\n",
       "       [10, 26, 20, 24]])"
      ]
     },
     "execution_count": 27,
     "metadata": {},
     "output_type": "execute_result"
    }
   ],
   "source": [
    "#2D\n",
    "#Add new row [10,26,20,24] to arr_2d above\n",
    "new = [[10,26,20,24]]\n",
    "arr_2d = np.concatenate([arr_2d,new], axis=0)\n",
    "arr_2d"
   ]
  },
  {
   "cell_type": "code",
   "execution_count": 28,
   "metadata": {},
   "outputs": [
    {
     "data": {
      "text/plain": [
       "array([[28, 26, 34,  6, 50],\n",
       "       [42, 20, 36, 38, 60],\n",
       "       [ 8,  4, 40, 12, 70],\n",
       "       [10, 26, 20, 24, 80]])"
      ]
     },
     "execution_count": 28,
     "metadata": {},
     "output_type": "execute_result"
    }
   ],
   "source": [
    "#Add new col [50,60,70,80] to arr_2d\n",
    "col = np.array([50,60,70,80]).reshape(4,1)\n",
    "arr_2d = np.concatenate([arr_2d,col],axis=1)\n",
    "arr_2d"
   ]
  },
  {
   "cell_type": "code",
   "execution_count": 29,
   "metadata": {},
   "outputs": [
    {
     "data": {
      "text/plain": [
       "array([[28, 26, 34,  6, 50],\n",
       "       [42, 20, 36, 38, 60],\n",
       "       [10, 26, 20, 24, 80]])"
      ]
     },
     "execution_count": 29,
     "metadata": {},
     "output_type": "execute_result"
    }
   ],
   "source": [
    "#Create temp is a 2D array which is removed row index 2\n",
    "temp = np.delete(arr_2d,2,axis=0)\n",
    "temp"
   ]
  },
  {
   "cell_type": "code",
   "execution_count": 30,
   "metadata": {},
   "outputs": [
    {
     "data": {
      "text/plain": [
       "array([[28, 26, 34, 50],\n",
       "       [42, 20, 36, 60],\n",
       "       [ 8,  4, 40, 70],\n",
       "       [10, 26, 20, 80]])"
      ]
     },
     "execution_count": 30,
     "metadata": {},
     "output_type": "execute_result"
    }
   ],
   "source": [
    "#Create temp is a 2D array which is removed col index 3\n",
    "temp = np.delete(arr_2d,3,axis=1)\n",
    "temp"
   ]
  },
  {
   "cell_type": "code",
   "execution_count": 31,
   "metadata": {},
   "outputs": [
    {
     "data": {
      "text/plain": [
       "array([[28, 26, 34,  6, 50],\n",
       "       [42, 20, 30, 38, 60],\n",
       "       [ 8,  4, 40, 12, 70],\n",
       "       [10, 26, 20, 24, 80]])"
      ]
     },
     "execution_count": 31,
     "metadata": {},
     "output_type": "execute_result"
    }
   ],
   "source": [
    "#Edit value in row 1 and col 2 = 30\n",
    "arr_2d[1,2] = 30\n",
    "arr_2d"
   ]
  },
  {
   "cell_type": "code",
   "execution_count": 32,
   "metadata": {},
   "outputs": [
    {
     "data": {
      "text/plain": [
       "array([[28, 26, 34,  6, 50],\n",
       "       [42, 20, 30, 38, 60],\n",
       "       [ 8,  4, 40, 20, 70],\n",
       "       [10, 26, 20, 24, 80]])"
      ]
     },
     "execution_count": 32,
     "metadata": {},
     "output_type": "execute_result"
    }
   ],
   "source": [
    "#Edit values which are bigger than 10 and smaller than 20 in arr_2d = 20\n",
    "arr_2d[(arr_2d > 10) & (arr_2d < 20)] = 20\n",
    "arr_2d"
   ]
  },
  {
   "cell_type": "code",
   "execution_count": 33,
   "metadata": {},
   "outputs": [
    {
     "data": {
      "text/plain": [
       "array([[28, 30, 34, 30, 50],\n",
       "       [42, 20, 30, 38, 60],\n",
       "       [ 8,  4, 40, 20, 70],\n",
       "       [10, 26, 20, 24, 80]])"
      ]
     },
     "execution_count": 33,
     "metadata": {},
     "output_type": "execute_result"
    }
   ],
   "source": [
    "#Edit values < 30 and %4 != 0 in row index 0 to 30\n",
    "arr_2d[0, (arr_2d[0] < 30) & (arr_2d[0] %4 !=0)] = 30\n",
    "arr_2d"
   ]
  },
  {
   "cell_type": "markdown",
   "metadata": {},
   "source": []
  }
 ],
 "metadata": {
  "kernelspec": {
   "display_name": "Python 3",
   "language": "python",
   "name": "python3"
  },
  "language_info": {
   "codemirror_mode": {
    "name": "ipython",
    "version": 3
   },
   "file_extension": ".py",
   "mimetype": "text/x-python",
   "name": "python",
   "nbconvert_exporter": "python",
   "pygments_lexer": "ipython3",
   "version": "3.12.3"
  }
 },
 "nbformat": 4,
 "nbformat_minor": 2
}
